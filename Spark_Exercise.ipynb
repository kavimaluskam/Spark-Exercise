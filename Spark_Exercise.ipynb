{
 "cells": [
  {
   "cell_type": "markdown",
   "metadata": {},
   "source": [
    "# 1. Basic Environment Setup \n",
    "- Include libraries / packages\n",
    "- Manage Spark Session\n",
    "- Import data with basic preview"
   ]
  },
  {
   "cell_type": "code",
   "execution_count": 1,
   "metadata": {},
   "outputs": [],
   "source": [
    "# Import packages\n",
    "import os\n",
    "from datetime import datetime\n",
    "from dateutil import tz\n",
    "from pyspark.sql import SparkSession, SQLContext, Window\n",
    "from pyspark.sql.functions import col, count, hour, isnan, json_tuple, lpad, \\\n",
    "                                  max, rank, udf, when\n",
    "from pyspark.sql.types import StringType"
   ]
  },
  {
   "cell_type": "code",
   "execution_count": 2,
   "metadata": {},
   "outputs": [],
   "source": [
    "# Setup spark session\n",
    "spark = SparkSession.builder \\\n",
    "      .master('local') \\\n",
    "      .getOrCreate()\n",
    "\n",
    "sqlContext = SQLContext(spark)"
   ]
  },
  {
   "cell_type": "code",
   "execution_count": 3,
   "metadata": {
    "scrolled": true
   },
   "outputs": [],
   "source": [
    "# Read snappy downloaded locally\n",
    "df = sqlContext.read.parquet(\"part0.parquet\")\n",
    "\n",
    "df = df.union(sqlContext.read.parquet(\"part1.parquet\")) \\\n",
    "  .union(sqlContext.read.parquet(\"part2.parquet\")) \\\n",
    "  .union(sqlContext.read.parquet(\"part3.parquet\")) "
   ]
  },
  {
   "cell_type": "code",
   "execution_count": 4,
   "metadata": {},
   "outputs": [
    {
     "name": "stdout",
     "output_type": "stream",
     "text": [
      "Number of data:\n",
      "1303198\n",
      "\n",
      "Data Schema:\n",
      "root\n",
      " |-- server_ts: long (nullable = true)\n",
      " |-- e_n: string (nullable = true)\n",
      " |-- uid: string (nullable = true)\n",
      " |-- device: string (nullable = true)\n",
      "\n",
      "None\n"
     ]
    }
   ],
   "source": [
    "# View basic data behavior for validation\n",
    "print(\"Number of data:\\n{0}\\n\".format(df.count()))\n",
    "print(\"Data Schema:\")\n",
    "print(df.printSchema())"
   ]
  },
  {
   "cell_type": "code",
   "execution_count": 5,
   "metadata": {},
   "outputs": [
    {
     "name": "stdout",
     "output_type": "stream",
     "text": [
      "+-------------+------------------+--------+-------+\n",
      "|    server_ts|               e_n|     uid| device|\n",
      "+-------------+------------------+--------+-------+\n",
      "|1526835750863| {\"article_id\":57}|e9b0971f| mobile|\n",
      "|1526835751136|{\"article_id\":849}|b808aba2| mobile|\n",
      "|1526835751188|{\"article_id\":871}|27f07360| mobile|\n",
      "|1526835751215|{\"article_id\":150}|2abe5349|desktop|\n",
      "|1526835751211|{\"article_id\":806}|338d71ea|desktop|\n",
      "+-------------+------------------+--------+-------+\n",
      "only showing top 5 rows\n",
      "\n"
     ]
    }
   ],
   "source": [
    "# View first few lines of data to get some feeling...\n",
    "df.show(5)"
   ]
  },
  {
   "cell_type": "markdown",
   "metadata": {},
   "source": [
    "# 2. Data Validation and Cleaning (if needed)\n",
    "\n",
    "## Validation\n",
    "- Check for any null value\n",
    "- Verifiy number of unique values in \"device\"\n",
    "\n",
    "## Cleansing\n",
    "- Clean any row with null value (?)\n",
    "- Change server_ts: long -> datetime\n",
    "- Change en: json_string -> string"
   ]
  },
  {
   "cell_type": "code",
   "execution_count": 6,
   "metadata": {},
   "outputs": [
    {
     "name": "stdout",
     "output_type": "stream",
     "text": [
      "+---------+---+---+------+\n",
      "|server_ts|e_n|uid|device|\n",
      "+---------+---+---+------+\n",
      "|        0|  0|119|     0|\n",
      "+---------+---+---+------+\n",
      "\n"
     ]
    }
   ],
   "source": [
    "# Data validation on null value\n",
    "df.select([\n",
    "    count(when(col(c).isNull(), c)).alias(c)\n",
    "    for c in df.columns\n",
    "]).show()"
   ]
  },
  {
   "cell_type": "code",
   "execution_count": 7,
   "metadata": {},
   "outputs": [
    {
     "name": "stdout",
     "output_type": "stream",
     "text": [
      "+---------+---+---+------+\n",
      "|server_ts|e_n|uid|device|\n",
      "+---------+---+---+------+\n",
      "|        0|  0|  0|     0|\n",
      "+---------+---+---+------+\n",
      "\n"
     ]
    }
   ],
   "source": [
    "\"\"\"\n",
    "uid empty sounds be acceptable anyway?...\n",
    "\n",
    "Preparing cleaning method but optional...\n",
    "\"\"\"\n",
    "df = df.filter(df['uid'].isNotNull())\n",
    "df.select([\n",
    "    count(when(col(c).isNull(), c)).alias(c)\n",
    "    for c in df.columns\n",
    "]).show()"
   ]
  },
  {
   "cell_type": "code",
   "execution_count": 8,
   "metadata": {},
   "outputs": [
    {
     "name": "stdout",
     "output_type": "stream",
     "text": [
      "+-------+\n",
      "| device|\n",
      "+-------+\n",
      "|desktop|\n",
      "| mobile|\n",
      "+-------+\n",
      "\n"
     ]
    }
   ],
   "source": [
    "# Validating distinct value of devices...\n",
    "df.select('device').distinct().show()"
   ]
  },
  {
   "cell_type": "code",
   "execution_count": 9,
   "metadata": {},
   "outputs": [
    {
     "data": {
      "text/plain": [
       "'2018-05-20 17:02:30.863000'"
      ]
     },
     "execution_count": 9,
     "metadata": {},
     "output_type": "execute_result"
    }
   ],
   "source": [
    "# Change server time\n",
    "gmt_timezone = tz.gettz('GMT')\n",
    "hk_timezone = tz.gettz('Asia/Hong_Kong')\n",
    "\n",
    "def long_to_datetime(time_long):\n",
    "    return datetime.fromtimestamp(float(time_long)/1000) \\\n",
    "      .replace(tzinfo=hk_timezone) \\\n",
    "      .astimezone(gmt_timezone) \\\n",
    "      .strftime('%Y-%m-%d %H:%M:%S.%f')\n",
    "\n",
    "# Validate if function work as expected!\n",
    "long_to_datetime(1526835750863)"
   ]
  },
  {
   "cell_type": "code",
   "execution_count": 10,
   "metadata": {},
   "outputs": [],
   "source": [
    "# Apply long_to_datetime as a UDF...\n",
    "long_to_datetime_udf = udf(long_to_datetime, StringType())\n",
    "df = df.withColumn(\n",
    "    'server_dt', \n",
    "    long_to_datetime_udf(df['server_ts'])\n",
    ")"
   ]
  },
  {
   "cell_type": "code",
   "execution_count": 11,
   "metadata": {},
   "outputs": [],
   "source": [
    "# Apply json_tuple in e_n. json_tuple is useful!\n",
    "df = df.withColumn(\n",
    "    'article_id',\n",
    "    json_tuple(df['e_n'], 'article_id')\n",
    ")"
   ]
  },
  {
   "cell_type": "code",
   "execution_count": 12,
   "metadata": {},
   "outputs": [
    {
     "name": "stdout",
     "output_type": "stream",
     "text": [
      "+---------------------------------------------------------+\n",
      "|count(CASE WHEN (article_id IS NULL) THEN article_id END)|\n",
      "+---------------------------------------------------------+\n",
      "|                                                       31|\n",
      "+---------------------------------------------------------+\n",
      "\n"
     ]
    }
   ],
   "source": [
    "# Double Check if any null values for article_id...\n",
    "df.select([\n",
    "    count(when(col('article_id').isNull(), 'article_id'))\n",
    "]).show()"
   ]
  },
  {
   "cell_type": "code",
   "execution_count": 13,
   "metadata": {},
   "outputs": [
    {
     "name": "stdout",
     "output_type": "stream",
     "text": [
      "+-------------+---+--------+------+--------------------+----------+\n",
      "|    server_ts|e_n|     uid|device|           server_dt|article_id|\n",
      "+-------------+---+--------+------+--------------------+----------+\n",
      "|1526829577338| {}|74143400|mobile|2018-05-20 15:19:...|      null|\n",
      "|1526837193820| {}|577cbbc9|mobile|2018-05-20 17:26:...|      null|\n",
      "|1526823633405| {}|656e375c|mobile|2018-05-20 13:40:...|      null|\n",
      "|1526824766497| {}|7c0a3a8b|mobile|2018-05-20 13:59:...|      null|\n",
      "|1526830116875| {}|69b067fe|mobile|2018-05-20 15:28:...|      null|\n",
      "+-------------+---+--------+------+--------------------+----------+\n",
      "only showing top 5 rows\n",
      "\n"
     ]
    }
   ],
   "source": [
    "# Ouch ...\n",
    "df.filter(df['article_id'].isNull()).show(5)"
   ]
  },
  {
   "cell_type": "code",
   "execution_count": 14,
   "metadata": {},
   "outputs": [
    {
     "name": "stdout",
     "output_type": "stream",
     "text": [
      "+---------+---+---+------+---------+----------+\n",
      "|server_ts|e_n|uid|device|server_dt|article_id|\n",
      "+---------+---+---+------+---------+----------+\n",
      "+---------+---+---+------+---------+----------+\n",
      "\n"
     ]
    }
   ],
   "source": [
    "# Better remvoe again\n",
    "df = df.filter(df['article_id'].isNotNull())\n",
    "df.filter(df['article_id'].isNull()).show(5)"
   ]
  },
  {
   "cell_type": "markdown",
   "metadata": {},
   "source": [
    "### 3. Basic View Analysis\n",
    "1. Check total numbers of events\n",
    "2. Check best performed article...\n",
    "3. Check best performed article within each hour...\n",
    "4. Check avg / median for users"
   ]
  },
  {
   "cell_type": "code",
   "execution_count": 66,
   "metadata": {},
   "outputs": [
    {
     "data": {
      "text/plain": [
       "1303048"
      ]
     },
     "execution_count": 66,
     "metadata": {},
     "output_type": "execute_result"
    }
   ],
   "source": [
    "# 3.1 Check total (After clean)\n",
    "df.count()"
   ]
  },
  {
   "cell_type": "markdown",
   "metadata": {},
   "source": [
    "3.1: \n",
    "- Total numbers of event in this day: 1303048"
   ]
  },
  {
   "cell_type": "code",
   "execution_count": 16,
   "metadata": {},
   "outputs": [
    {
     "name": "stdout",
     "output_type": "stream",
     "text": [
      "+----------+-----+\n",
      "|article_id|count|\n",
      "+----------+-----+\n",
      "|       827|49249|\n",
      "+----------+-----+\n",
      "only showing top 1 row\n",
      "\n"
     ]
    }
   ],
   "source": [
    "# 3.2 Check best performed article\n",
    "df.groupBy('article_id').count().orderBy('count', ascending=False).show(1)"
   ]
  },
  {
   "cell_type": "markdown",
   "metadata": {},
   "source": [
    "3.2: \n",
    "- Article with the greatest number of page views: 827\n",
    "- Corresponding count: 49249   "
   ]
  },
  {
   "cell_type": "code",
   "execution_count": 17,
   "metadata": {},
   "outputs": [],
   "source": [
    "# 3.3 Extract Hour\n",
    "df = df.withColumn(\n",
    "    'hour',\n",
    "    lpad(hour(df['server_dt']), 2, '0')\n",
    ")"
   ]
  },
  {
   "cell_type": "code",
   "execution_count": 67,
   "metadata": {},
   "outputs": [
    {
     "name": "stdout",
     "output_type": "stream",
     "text": [
      "+----+----------+-----+\n",
      "|hour|article_id|count|\n",
      "+----+----------+-----+\n",
      "|  00|       830| 3105|\n",
      "|  01|       155| 4933|\n",
      "|  02|       830| 2914|\n",
      "|  03|       374| 5404|\n",
      "|  04|       374| 6139|\n",
      "|  05|       897| 4418|\n",
      "|  06|       813| 3214|\n",
      "|  07|       740| 2517|\n",
      "|  08|       712| 3045|\n",
      "|  09|       712| 1937|\n",
      "|  10|       827| 6702|\n",
      "|  11|       827| 7198|\n",
      "|  12|       827| 6428|\n",
      "|  13|       827| 5518|\n",
      "|  14|       827| 4806|\n",
      "|  15|        67| 6942|\n",
      "|  16|       827| 3139|\n",
      "|  17|       871| 2274|\n",
      "|  18|       827| 1072|\n",
      "|  19|       827|  696|\n",
      "|  20|       827|  391|\n",
      "|  21|       827|  430|\n",
      "|  22|        85| 1636|\n",
      "|  23|        85| 4229|\n",
      "+----+----------+-----+\n",
      "\n"
     ]
    }
   ],
   "source": [
    "# Double Group by as preparation ...\n",
    "grouped_df = df.groupBy('hour', 'article_id').count()\n",
    "\n",
    "# Setup partitionBy-window ...\n",
    "hour_window = Window.partitionBy(grouped_df['hour']).orderBy(grouped_df['count'].desc())\n",
    "\n",
    "# Rank over window and save as temporary column ...\n",
    "grouped_df = grouped_df.withColumn(\n",
    "     'rank',\n",
    "    rank().over(hour_window)\n",
    ")\n",
    "\n",
    "# Filter and show\n",
    "grouped_df.filter(grouped_df['rank'] == 1) \\\n",
    "      .select('hour', 'article_id', 'count') \\\n",
    "      .orderBy('hour').show(24)"
   ]
  },
  {
   "cell_type": "markdown",
   "metadata": {},
   "source": [
    "3.3:\n",
    "- Data table as show above"
   ]
  },
  {
   "cell_type": "code",
   "execution_count": 73,
   "metadata": {},
   "outputs": [
    {
     "name": "stdout",
     "output_type": "stream",
     "text": [
      "+------------------+\n",
      "|        avg(count)|\n",
      "+------------------+\n",
      "|2.3992826353942833|\n",
      "+------------------+\n",
      "\n"
     ]
    },
    {
     "data": {
      "text/plain": [
       "[1.0]"
      ]
     },
     "execution_count": 73,
     "metadata": {},
     "output_type": "execute_result"
    }
   ],
   "source": [
    "# 3.4 AVG / MEDIAN for user\n",
    "\n",
    "# Sort for median\n",
    "df_grp_by_uid = df.groupBy('uid').count().orderBy(\"count\")\n",
    "\n",
    "# Average\n",
    "df_grp_by_uid.agg({\n",
    "    'count': 'avg'\n",
    "}).show()\n",
    "\n",
    "# Approximate Median\n",
    "df_grp_by_uid.approxQuantile(\"count\", [0.5], 0.25)"
   ]
  },
  {
   "cell_type": "markdown",
   "metadata": {},
   "source": [
    "3.4:\n",
    "- Average: 2.400\n",
    "- Median (Approximate): 1.0"
   ]
  }
 ],
 "metadata": {
  "kernelspec": {
   "display_name": "Python 2",
   "language": "python",
   "name": "python2"
  },
  "language_info": {
   "codemirror_mode": {
    "name": "ipython",
    "version": 2
   },
   "file_extension": ".py",
   "mimetype": "text/x-python",
   "name": "python",
   "nbconvert_exporter": "python",
   "pygments_lexer": "ipython2",
   "version": "2.7.15rc1"
  }
 },
 "nbformat": 4,
 "nbformat_minor": 2
}
