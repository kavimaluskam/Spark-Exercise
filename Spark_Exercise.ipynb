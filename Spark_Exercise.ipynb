{
 "cells": [
  {
   "cell_type": "markdown",
   "metadata": {},
   "source": [
    "# 1. Basic Environment Setup \n",
    "- Include libraries / packages\n",
    "- Manage Spark Session\n",
    "- Import data with basic preview"
   ]
  },
  {
   "cell_type": "code",
   "execution_count": 1,
   "metadata": {},
   "outputs": [],
   "source": [
    "# Import packages\n",
    "import os\n",
    "from datetime import datetime\n",
    "from dateutil import tz\n",
    "from pyspark.sql import SparkSession, Window\n",
    "from pyspark.sql.functions import col, count, hour, isnan, json_tuple, lpad, \\\n",
    "                                  max, rank, udf, when\n",
    "from pyspark.sql.types import StringType"
   ]
  },
  {
   "cell_type": "code",
   "execution_count": 2,
   "metadata": {},
   "outputs": [],
   "source": [
    "# Setup spark session\n",
    "spark = SparkSession.builder \\\n",
    "      .master('local') \\\n",
    "      .getOrCreate()"
   ]
  },
  {
   "cell_type": "code",
   "execution_count": 3,
   "metadata": {
    "scrolled": true
   },
   "outputs": [],
   "source": [
    "# Read snappy downloaded locally\n",
    "df = spark.read.parquet(\"part0.parquet\")\n",
    "\n",
    "df = df.union(sqlContext.read.parquet(\"part1.parquet\")) \\\n",
    "  .union(sqlContext.read.parquet(\"part2.parquet\")) \\\n",
    "  .union(sqlContext.read.parquet(\"part3.parquet\")) "
   ]
  },
  {
   "cell_type": "code",
   "execution_count": 4,
   "metadata": {},
   "outputs": [
    {
     "name": "stdout",
     "output_type": "stream",
     "text": [
      "Number of data:\n",
      "1303198\n",
      "\n",
      "Data Schema:\n",
      "root\n",
      " |-- server_ts: long (nullable = true)\n",
      " |-- e_n: string (nullable = true)\n",
      " |-- uid: string (nullable = true)\n",
      " |-- device: string (nullable = true)\n",
      "\n",
      "None\n"
     ]
    }
   ],
   "source": [
    "# View basic data behavior for validation\n",
    "print(\"Number of data:\\n{0}\\n\".format(df.count()))\n",
    "print(\"Data Schema:\")\n",
    "print(df.printSchema())"
   ]
  },
  {
   "cell_type": "code",
   "execution_count": 5,
   "metadata": {},
   "outputs": [
    {
     "name": "stdout",
     "output_type": "stream",
     "text": [
      "+-------------+------------------+--------+-------+\n",
      "|    server_ts|               e_n|     uid| device|\n",
      "+-------------+------------------+--------+-------+\n",
      "|1526835750863| {\"article_id\":57}|e9b0971f| mobile|\n",
      "|1526835751136|{\"article_id\":849}|b808aba2| mobile|\n",
      "|1526835751188|{\"article_id\":871}|27f07360| mobile|\n",
      "|1526835751215|{\"article_id\":150}|2abe5349|desktop|\n",
      "|1526835751211|{\"article_id\":806}|338d71ea|desktop|\n",
      "+-------------+------------------+--------+-------+\n",
      "only showing top 5 rows\n",
      "\n"
     ]
    }
   ],
   "source": [
    "# View first few lines of data to get some feeling...\n",
    "df.show(5)"
   ]
  },
  {
   "cell_type": "markdown",
   "metadata": {},
   "source": [
    "# 2. Data Validation and Cleaning (if needed)\n",
    "\n",
    "## Validation\n",
    "- Check for any null value\n",
    "- Verifiy number of unique values in \"device\"\n",
    "\n",
    "## Cleansing\n",
    "- Clean any row with null value (optional)\n",
    "- Change server_ts: long -> datetime\n",
    "- Change en: json_string -> string"
   ]
  },
  {
   "cell_type": "code",
   "execution_count": 6,
   "metadata": {},
   "outputs": [
    {
     "name": "stdout",
     "output_type": "stream",
     "text": [
      "+---------+---+---+------+\n",
      "|server_ts|e_n|uid|device|\n",
      "+---------+---+---+------+\n",
      "|        0|  0|119|     0|\n",
      "+---------+---+---+------+\n",
      "\n"
     ]
    }
   ],
   "source": [
    "# Data validation on null value\n",
    "df.select([\n",
    "    count(when(col(c).isNull(), c)).alias(c)\n",
    "    for c in df.columns\n",
    "]).show()"
   ]
  },
  {
   "cell_type": "code",
   "execution_count": 7,
   "metadata": {},
   "outputs": [],
   "source": [
    "# \"\"\"\n",
    "# uid empty sounds be acceptable anyway?...\n",
    "# \n",
    "# Prepared cleaning but optional\n",
    "# \"\"\"\n",
    "# df = df.filter(df['uid'].isNotNull())\n",
    "# df.select([\n",
    "#     count(when(col(c).isNull(), c)).alias(c)\n",
    "#     for c in df.columns\n",
    "# ]).show()"
   ]
  },
  {
   "cell_type": "code",
   "execution_count": 8,
   "metadata": {},
   "outputs": [
    {
     "name": "stdout",
     "output_type": "stream",
     "text": [
      "+-------+\n",
      "| device|\n",
      "+-------+\n",
      "|desktop|\n",
      "| mobile|\n",
      "+-------+\n",
      "\n"
     ]
    }
   ],
   "source": [
    "# Validating distinct value of devices...\n",
    "df.select('device').distinct().show()"
   ]
  },
  {
   "cell_type": "code",
   "execution_count": 9,
   "metadata": {},
   "outputs": [
    {
     "data": {
      "text/plain": [
       "'2018-05-20 17:02:30.863000'"
      ]
     },
     "execution_count": 9,
     "metadata": {},
     "output_type": "execute_result"
    }
   ],
   "source": [
    "# Change event time time\n",
    "gmt_timezone = tz.gettz('GMT')\n",
    "hk_timezone = tz.gettz('Asia/Hong_Kong')\n",
    "\n",
    "def long_to_datetime(time_long):\n",
    "    return datetime.fromtimestamp(float(time_long)/1000) \\\n",
    "      .replace(tzinfo=hk_timezone) \\\n",
    "      .astimezone(gmt_timezone) \\\n",
    "      .strftime('%Y-%m-%d %H:%M:%S.%f')\n",
    "\n",
    "# Validate if function work as expected!\n",
    "long_to_datetime(1526835750863)"
   ]
  },
  {
   "cell_type": "code",
   "execution_count": 10,
   "metadata": {},
   "outputs": [],
   "source": [
    "# Apply long_to_datetime as a UDF...\n",
    "long_to_datetime_udf = udf(long_to_datetime, StringType())\n",
    "df = df.withColumn(\n",
    "    'server_dt', \n",
    "    long_to_datetime_udf(df['server_ts'])\n",
    ")"
   ]
  },
  {
   "cell_type": "code",
   "execution_count": 11,
   "metadata": {},
   "outputs": [],
   "source": [
    "# Apply json_tuple in e_n. json_tuple is useful!\n",
    "df = df.withColumn(\n",
    "    'article_id',\n",
    "    json_tuple(df['e_n'], 'article_id')\n",
    ")"
   ]
  },
  {
   "cell_type": "code",
   "execution_count": 12,
   "metadata": {},
   "outputs": [
    {
     "name": "stdout",
     "output_type": "stream",
     "text": [
      "+---------+---+---+------+---------+----------+\n",
      "|server_ts|e_n|uid|device|server_dt|article_id|\n",
      "+---------+---+---+------+---------+----------+\n",
      "|        0|  0|119|     0|        0|        31|\n",
      "+---------+---+---+------+---------+----------+\n",
      "\n"
     ]
    }
   ],
   "source": [
    "# Double Check if any null values for article_id...\n",
    "df.select([\n",
    "    count(when(col(c).isNull(), c)).alias(c)\n",
    "    for c in df.columns\n",
    "]).show()"
   ]
  },
  {
   "cell_type": "code",
   "execution_count": 13,
   "metadata": {},
   "outputs": [
    {
     "name": "stdout",
     "output_type": "stream",
     "text": [
      "+-------------+---+--------+------+--------------------+----------+\n",
      "|    server_ts|e_n|     uid|device|           server_dt|article_id|\n",
      "+-------------+---+--------+------+--------------------+----------+\n",
      "|1526829577338| {}|74143400|mobile|2018-05-20 15:19:...|      null|\n",
      "|1526837193820| {}|577cbbc9|mobile|2018-05-20 17:26:...|      null|\n",
      "|1526823633405| {}|656e375c|mobile|2018-05-20 13:40:...|      null|\n",
      "|1526824766497| {}|7c0a3a8b|mobile|2018-05-20 13:59:...|      null|\n",
      "|1526830116875| {}|69b067fe|mobile|2018-05-20 15:28:...|      null|\n",
      "+-------------+---+--------+------+--------------------+----------+\n",
      "only showing top 5 rows\n",
      "\n"
     ]
    }
   ],
   "source": [
    "# Ouch ...\n",
    "df.filter(df['article_id'].isNull()).show(5)"
   ]
  },
  {
   "cell_type": "code",
   "execution_count": 14,
   "metadata": {},
   "outputs": [],
   "source": [
    "# Better remove again\n",
    "# df = df.filter(df['article_id'].isNotNull())\n",
    "# df.filter(df['article_id'].isNull()).show(5)"
   ]
  },
  {
   "cell_type": "markdown",
   "metadata": {},
   "source": [
    "# 3. Basic View Analysis\n",
    "Doing Question 1"
   ]
  },
  {
   "cell_type": "code",
   "execution_count": 15,
   "metadata": {},
   "outputs": [
    {
     "name": "stdout",
     "output_type": "stream",
     "text": [
      "1a): 1303198\n"
     ]
    }
   ],
   "source": [
    "# 1a)\n",
    "print(\"1a): {0}\".format(df.count()))"
   ]
  },
  {
   "cell_type": "code",
   "execution_count": 16,
   "metadata": {},
   "outputs": [
    {
     "name": "stdout",
     "output_type": "stream",
     "text": [
      "1b):\n",
      "\n",
      "+----------+-----+\n",
      "|article_id|count|\n",
      "+----------+-----+\n",
      "|       827|49249|\n",
      "+----------+-----+\n",
      "only showing top 1 row\n",
      "\n"
     ]
    }
   ],
   "source": [
    "# 1b)\n",
    "print(\"1b):\\n\")\n",
    "df.groupBy('article_id') \\\n",
    "      .count() \\\n",
    "      .orderBy('count', ascending=False) \\\n",
    "      .show(1)"
   ]
  },
  {
   "cell_type": "code",
   "execution_count": 17,
   "metadata": {},
   "outputs": [],
   "source": [
    "# 1c)\n",
    "df = df.withColumn(\n",
    "    'hour',\n",
    "    lpad(hour(df['server_dt']), 2, '0')\n",
    ")"
   ]
  },
  {
   "cell_type": "code",
   "execution_count": 18,
   "metadata": {},
   "outputs": [
    {
     "name": "stdout",
     "output_type": "stream",
     "text": [
      "1c):\n",
      "\n",
      "+----+----------+-----+\n",
      "|hour|article_id|count|\n",
      "+----+----------+-----+\n",
      "|  00|       830| 3105|\n",
      "|  01|       155| 4933|\n",
      "|  02|       830| 2914|\n",
      "|  03|       374| 5404|\n",
      "|  04|       374| 6139|\n",
      "|  05|       897| 4418|\n",
      "|  06|       813| 3214|\n",
      "|  07|       740| 2517|\n",
      "|  08|       712| 3045|\n",
      "|  09|       712| 1937|\n",
      "|  10|       827| 6702|\n",
      "|  11|       827| 7198|\n",
      "|  12|       827| 6428|\n",
      "|  13|       827| 5518|\n",
      "|  14|       827| 4806|\n",
      "|  15|        67| 6942|\n",
      "|  16|       827| 3139|\n",
      "|  17|       871| 2274|\n",
      "|  18|       827| 1072|\n",
      "|  19|       827|  696|\n",
      "|  20|       827|  391|\n",
      "|  21|       827|  430|\n",
      "|  22|        85| 1636|\n",
      "|  23|        85| 4229|\n",
      "+----+----------+-----+\n",
      "\n"
     ]
    }
   ],
   "source": [
    "# Double Group by as preparation ...\n",
    "grouped_df = df.groupBy('hour', 'article_id').count()\n",
    "\n",
    "# Setup partitionBy-window ...\n",
    "hour_window = Window.partitionBy(grouped_df['hour']).orderBy(grouped_df['count'].desc())\n",
    "\n",
    "# Rank over window and save as temporary column ...\n",
    "grouped_df = grouped_df.withColumn(\n",
    "     'rank',\n",
    "    rank().over(hour_window)\n",
    ")\n",
    "\n",
    "# Filter and show\n",
    "print(\"1c):\\n\")\n",
    "grouped_df.filter(grouped_df['rank'] == 1) \\\n",
    "      .select('hour', 'article_id', 'count') \\\n",
    "      .orderBy('hour').show(24)"
   ]
  },
  {
   "cell_type": "code",
   "execution_count": 19,
   "metadata": {},
   "outputs": [
    {
     "name": "stdout",
     "output_type": "stream",
     "text": [
      "1d):\n",
      "\n",
      "Average:\n",
      "\n",
      "+----------------+\n",
      "|      avg(count)|\n",
      "+----------------+\n",
      "|2.39954557339137|\n",
      "+----------------+\n",
      "\n",
      "Median:\n",
      "\n"
     ]
    },
    {
     "data": {
      "text/plain": [
       "[1.0]"
      ]
     },
     "execution_count": 19,
     "metadata": {},
     "output_type": "execute_result"
    }
   ],
   "source": [
    "# 3.4 AVG / MEDIAN for user\n",
    "\n",
    "# Sort for median\n",
    "df_grp_by_uid = df.groupBy('uid').count().orderBy(\"count\")\n",
    "\n",
    "print(\"1d):\\n\")\n",
    "# Average\n",
    "print(\"Average:\\n\")\n",
    "df_grp_by_uid.agg({\n",
    "    'count': 'avg'\n",
    "}).show()\n",
    "\n",
    "# Approximate Median\n",
    "print(\"Median:\\n\")\n",
    "df_grp_by_uid.approxQuantile(\"count\", [0.5], 0.25)"
   ]
  },
  {
   "cell_type": "markdown",
   "metadata": {},
   "source": [
    "# 4. Session Analysis\n",
    "Doing question 2"
   ]
  },
  {
   "cell_type": "code",
   "execution_count": 20,
   "metadata": {},
   "outputs": [
    {
     "data": {
      "text/plain": [
       "[(1, 52748), (2, 433801), (3, 0)]"
      ]
     },
     "execution_count": 20,
     "metadata": {},
     "output_type": "execute_result"
    }
   ],
   "source": [
    "# Define session generating function\n",
    "SESSION_LIMIT = 30 * 60 * 1000\n",
    "def session_formation(ts_list):\n",
    "    ts_list = sorted(list(ts_list))\n",
    "    \n",
    "    session_length_list = []\n",
    "    session_start_temp = 0\n",
    "    \n",
    "    for ts in ts_list:\n",
    "        session_diff = ts - session_start_temp\n",
    "    \n",
    "        # When new session is found...\n",
    "        if session_diff > SESSION_LIMIT:\n",
    "            session_start_temp = ts\n",
    "            session_length_list.append(0)\n",
    "        \n",
    "        # else, Extending session length \n",
    "        else:\n",
    "            session_length_list[-1] = session_diff\n",
    "        \n",
    "    # Generating session index at the same time...\n",
    "    return [(index + 1, session) for index, session in enumerate(session_length_list)]\n",
    "\n",
    "\n",
    "# Rough validating if function work as expected!\n",
    "session_formation([1526782447295, 1526782500043, 1526793444112, 1526793657771, 1526793877913, 1526797801606])"
   ]
  },
  {
   "cell_type": "code",
   "execution_count": 21,
   "metadata": {},
   "outputs": [
    {
     "name": "stdout",
     "output_type": "stream",
     "text": [
      "+--------+----------+--------------+\n",
      "|     uid|session_id|session_length|\n",
      "+--------+----------+--------------+\n",
      "|600cc101|         1|             0|\n",
      "|f2b99545|         1|         95475|\n",
      "|3f277bd6|         1|             0|\n",
      "|7f08a3d3|         1|             0|\n",
      "|9bb3e690|         1|             0|\n",
      "|504d03bc|         1|             0|\n",
      "|550c8d71|         1|             0|\n",
      "|2a53a1f4|         1|             0|\n",
      "|e508c8b1|         1|             0|\n",
      "|809cece6|         1|             0|\n",
      "|d168378f|         1|             0|\n",
      "|d6fcc9da|         1|        191104|\n",
      "|7511ed8f|         1|             0|\n",
      "|a84893d5|         1|             0|\n",
      "|149eb5a6|         1|        827957|\n",
      "|149eb5a6|         2|           233|\n",
      "|f6965068|         1|             0|\n",
      "|a13d2299|         1|             0|\n",
      "|e47b2288|         1|             0|\n",
      "|e5e8baa8|         1|             0|\n",
      "+--------+----------+--------------+\n",
      "only showing top 20 rows\n",
      "\n"
     ]
    }
   ],
   "source": [
    "# groupByKey and flatMapValues looks more clean\n",
    "session_df = df.rdd.map(lambda x: (x['uid'], x['server_ts'])) \\\n",
    "      .groupByKey() \\\n",
    "      .flatMapValues(session_formation) \\\n",
    "      .map(lambda x: (x[0], x[1][0], x[1][1])) \\\n",
    "      .toDF(['uid', 'session_id', 'session_length'])\n",
    "\n",
    "session_df.show()"
   ]
  },
  {
   "cell_type": "code",
   "execution_count": 22,
   "metadata": {},
   "outputs": [
    {
     "name": "stdout",
     "output_type": "stream",
     "text": [
      "2a): 774587\n"
     ]
    }
   ],
   "source": [
    "# 2a\n",
    "print(\"2a): {0}\".format(session_df.count()))"
   ]
  },
  {
   "cell_type": "code",
   "execution_count": 23,
   "metadata": {},
   "outputs": [
    {
     "name": "stdout",
     "output_type": "stream",
     "text": [
      "2b):\n",
      "\n",
      "+--------+-----+\n",
      "|     uid|count|\n",
      "+--------+-----+\n",
      "|c82275f3|   39|\n",
      "+--------+-----+\n",
      "only showing top 1 row\n",
      "\n"
     ]
    }
   ],
   "source": [
    "# 2b\n",
    "print(\"2b):\\n\")\n",
    "session_df.groupBy('uid') \\\n",
    "      .count() \\\n",
    "      .orderBy('count', ascending=False) \\\n",
    "      .show(1)"
   ]
  },
  {
   "cell_type": "code",
   "execution_count": 24,
   "metadata": {},
   "outputs": [
    {
     "name": "stdout",
     "output_type": "stream",
     "text": [
      "2c):\n",
      "\n",
      "Average:\n",
      "\n",
      "+-------------------+\n",
      "|avg(session_length)|\n",
      "+-------------------+\n",
      "| 144024.08804304746|\n",
      "+-------------------+\n",
      "\n",
      "Median:\n",
      "\n"
     ]
    },
    {
     "data": {
      "text/plain": [
       "[0.0]"
      ]
     },
     "execution_count": 24,
     "metadata": {},
     "output_type": "execute_result"
    }
   ],
   "source": [
    "# 4.3 AVG / MEDIAN for session \n",
    "\n",
    "print(\"2c):\\n\")\n",
    "# Average\n",
    "print(\"Average:\\n\")\n",
    "session_df.agg({\n",
    "    'session_length': 'avg'\n",
    "}).show()\n",
    "\n",
    "# Approximate Median\n",
    "print(\"Median:\\n\")\n",
    "session_df.orderBy('session_length') \\\n",
    "      .approxQuantile(\"session_length\", [0.5], 0.25)"
   ]
  }
 ],
 "metadata": {
  "kernelspec": {
   "display_name": "Python 2",
   "language": "python",
   "name": "python2"
  },
  "language_info": {
   "codemirror_mode": {
    "name": "ipython",
    "version": 2
   },
   "file_extension": ".py",
   "mimetype": "text/x-python",
   "name": "python",
   "nbconvert_exporter": "python",
   "pygments_lexer": "ipython2",
   "version": "2.7.15rc1"
  }
 },
 "nbformat": 4,
 "nbformat_minor": 2
}
